{
  "nbformat": 4,
  "nbformat_minor": 0,
  "metadata": {
    "colab": {
      "provenance": []
    },
    "kernelspec": {
      "name": "python3",
      "display_name": "Python 3"
    },
    "language_info": {
      "name": "python"
    }
  },
  "cells": [
    {
      "cell_type": "markdown",
      "source": [
        "**SHREASI SEN 20BCE2738**\n",
        "\n",
        "AI Assignment 1\n",
        "\n",
        "Task 1- Create a pandas dataframe (DataFrame name as 'df') with numpy random values (4 features and 4 observation)\n",
        "\n",
        "Task 2- Rename the task - 1 'df' dataframe column names to 'Random value 1', 'Random value 2', 'Random value 3' & 'Random value 4'\n",
        "\n",
        "Task 3- Find the descriptive statistics of the 'df' dataframe.\n",
        "\n",
        "Task 4- Check for the null values in 'df' and find the data type of the columns.\n",
        "\n",
        "Task 5- Display the 'Random value 2' & 'Random value 3' columns with location method and index location method."
      ],
      "metadata": {
        "id": "Dw1oqre08zJS"
      }
    },
    {
      "cell_type": "code",
      "execution_count": 1,
      "metadata": {
        "id": "tezs3IZ1O5-4"
      },
      "outputs": [],
      "source": [
        "import numpy as np\n",
        "import pandas as pd"
      ]
    },
    {
      "cell_type": "markdown",
      "source": [],
      "metadata": {
        "id": "Jsy4uGjd9BHD"
      }
    },
    {
      "cell_type": "markdown",
      "source": [
        "# Set the random seed for reproducibility"
      ],
      "metadata": {
        "id": "5p7rYJyLPXqs"
      }
    },
    {
      "cell_type": "code",
      "source": [
        "np.random.seed(42)"
      ],
      "metadata": {
        "id": "cjis-j1CPeR2"
      },
      "execution_count": 2,
      "outputs": []
    },
    {
      "cell_type": "markdown",
      "source": [
        "# Generate a 4x4 array of random values"
      ],
      "metadata": {
        "id": "1EM9gOZoPiq-"
      }
    },
    {
      "cell_type": "code",
      "source": [
        "data = np.random.randn(4, 4) "
      ],
      "metadata": {
        "id": "GS8LDP4OPjrA"
      },
      "execution_count": 3,
      "outputs": []
    },
    {
      "cell_type": "code",
      "source": [
        "df = pd.DataFrame(data, columns=['Random value 1', 'Random value 2', 'Random value 3', 'Random value 4'])"
      ],
      "metadata": {
        "id": "JGS_NPxjPoPK"
      },
      "execution_count": 4,
      "outputs": []
    },
    {
      "cell_type": "markdown",
      "source": [
        "# Descriptive statistics of 'df' dataframe"
      ],
      "metadata": {
        "id": "8DUhFqUXPq6_"
      }
    },
    {
      "cell_type": "code",
      "source": [
        "statistics = df.describe()"
      ],
      "metadata": {
        "id": "Sfj-yvyNPra2"
      },
      "execution_count": 5,
      "outputs": []
    },
    {
      "cell_type": "markdown",
      "source": [
        "# Check for null values and data types of columns"
      ],
      "metadata": {
        "id": "Y2o9Gw6TPul2"
      }
    },
    {
      "cell_type": "code",
      "source": [
        "null_counts = df.isnull().sum()\n",
        "data_types = df.dtypes"
      ],
      "metadata": {
        "id": "4YnGuXjFPvQA"
      },
      "execution_count": 6,
      "outputs": []
    },
    {
      "cell_type": "markdown",
      "source": [
        "# Display 'Random value 2' & 'Random value 3' columns using location and index methods\n"
      ],
      "metadata": {
        "id": "xaJn_NwpPyg8"
      }
    },
    {
      "cell_type": "code",
      "source": [
        "location_method = df.loc[:, ['Random value 2', 'Random value 3']]\n",
        "index_method = df[['Random value 2', 'Random value 3']]"
      ],
      "metadata": {
        "id": "IoNc--kGPzAe"
      },
      "execution_count": 7,
      "outputs": []
    },
    {
      "cell_type": "code",
      "source": [
        "print(\"Descriptive Statistics:\")\n",
        "print(statistics)"
      ],
      "metadata": {
        "colab": {
          "base_uri": "https://localhost:8080/"
        },
        "id": "942IZ2_KP1vK",
        "outputId": "a90d944b-7c65-4747-8ded-aa1b7784409f"
      },
      "execution_count": 8,
      "outputs": [
        {
          "output_type": "stream",
          "name": "stdout",
          "text": [
            "Descriptive Statistics:\n",
            "       Random value 1  Random value 2  Random value 3  Random value 4\n",
            "count        4.000000        4.000000        4.000000        4.000000\n",
            "mean         0.008762       -0.435780        0.009641        0.315612\n",
            "std          0.439772        1.043924        1.426317        1.007175\n",
            "min         -0.469474       -1.913280       -1.724918       -0.562288\n",
            "25%         -0.292984       -0.653923       -0.778793       -0.489869\n",
            "50%          0.003904       -0.186201        0.092135        0.150852\n",
            "75%          0.305650        0.031942        0.880570        0.956334\n",
            "max          0.496714        0.542560        1.579213        1.523030\n"
          ]
        }
      ]
    },
    {
      "cell_type": "code",
      "source": [
        "print(\"\\nNull Value Counts:\")\n",
        "print(null_counts)"
      ],
      "metadata": {
        "colab": {
          "base_uri": "https://localhost:8080/"
        },
        "id": "A8m90J2WP6FF",
        "outputId": "9b4a1717-2378-4ce7-ebe4-15945336a247"
      },
      "execution_count": 9,
      "outputs": [
        {
          "output_type": "stream",
          "name": "stdout",
          "text": [
            "\n",
            "Null Value Counts:\n",
            "Random value 1    0\n",
            "Random value 2    0\n",
            "Random value 3    0\n",
            "Random value 4    0\n",
            "dtype: int64\n"
          ]
        }
      ]
    },
    {
      "cell_type": "code",
      "source": [
        "print(\"\\nData Types:\")\n",
        "print(data_types)"
      ],
      "metadata": {
        "colab": {
          "base_uri": "https://localhost:8080/"
        },
        "id": "3ECAtVDQP72Q",
        "outputId": "9b2d595e-6ad3-43b4-ca2b-829a49017259"
      },
      "execution_count": 10,
      "outputs": [
        {
          "output_type": "stream",
          "name": "stdout",
          "text": [
            "\n",
            "Data Types:\n",
            "Random value 1    float64\n",
            "Random value 2    float64\n",
            "Random value 3    float64\n",
            "Random value 4    float64\n",
            "dtype: object\n"
          ]
        }
      ]
    },
    {
      "cell_type": "code",
      "source": [
        "print(\"\\n'Random value 2' & 'Random value 3' Columns (Location Method):\")\n",
        "print(location_method)"
      ],
      "metadata": {
        "colab": {
          "base_uri": "https://localhost:8080/"
        },
        "id": "laGIh2vOP9m4",
        "outputId": "8964e3da-c460-4d59-cfe3-ea56326f7a6c"
      },
      "execution_count": 11,
      "outputs": [
        {
          "output_type": "stream",
          "name": "stdout",
          "text": [
            "\n",
            "'Random value 2' & 'Random value 3' Columns (Location Method):\n",
            "   Random value 2  Random value 3\n",
            "0       -0.138264        0.647689\n",
            "1       -0.234137        1.579213\n",
            "2        0.542560       -0.463418\n",
            "3       -1.913280       -1.724918\n"
          ]
        }
      ]
    },
    {
      "cell_type": "code",
      "source": [
        "print(\"\\n'Random value 2' & 'Random value 3' Columns (Index Method):\")\n",
        "print(index_method)"
      ],
      "metadata": {
        "colab": {
          "base_uri": "https://localhost:8080/"
        },
        "id": "dx7LE3bVP_bA",
        "outputId": "0dc0abef-32dd-4e6e-a1d6-7af7dae5ed9f"
      },
      "execution_count": 12,
      "outputs": [
        {
          "output_type": "stream",
          "name": "stdout",
          "text": [
            "\n",
            "'Random value 2' & 'Random value 3' Columns (Index Method):\n",
            "   Random value 2  Random value 3\n",
            "0       -0.138264        0.647689\n",
            "1       -0.234137        1.579213\n",
            "2        0.542560       -0.463418\n",
            "3       -1.913280       -1.724918\n"
          ]
        }
      ]
    }
  ]
}